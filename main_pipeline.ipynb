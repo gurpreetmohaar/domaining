{
 "cells": [
  {
   "cell_type": "code",
   "execution_count": 1,
   "metadata": {},
   "outputs": [],
   "source": [
    "import sys\n",
    "sys.modules[__name__].__dict__.clear()\n",
    "import pandas as pd\n",
    "import yaml\n",
    "import numpy as np\n",
    "import os\n",
    "from scipy.stats import kurtosis\n",
    "from scipy.stats import skew\n",
    "from scipy.linalg import svd"
   ]
  },
  {
   "cell_type": "code",
   "execution_count": 2,
   "metadata": {},
   "outputs": [],
   "source": [
    "#read data and windowing settings from YML\n",
    "with open(\"config.yml\", 'r') as ymlfile:\n",
    "    cfg = yaml.load(ymlfile)\n",
    "file_name = cfg['filepath']\n",
    "window_size = cfg['window_size']\n",
    "overlap = cfg['overlap']\n",
    "num_clusters = cfg['num_clusters'] \n",
    "data  = pd.read_csv(file_name)\n",
    "sort_along = cfg['slide_along'] #bydefault set to east. go to config file if want to slide along other directions."
   ]
  },
  {
   "cell_type": "code",
   "execution_count": 3,
   "metadata": {},
   "outputs": [
    {
     "name": "stdout",
     "output_type": "stream",
     "text": [
      "(66635, 22)\n"
     ]
    }
   ],
   "source": [
    "print(data.shape)\n",
    "#split into train and test \n",
    "train_data = data[data[\"dhid\"]<500]"
   ]
  },
  {
   "cell_type": "code",
   "execution_count": 4,
   "metadata": {
    "scrolled": true
   },
   "outputs": [
    {
     "name": "stdout",
     "output_type": "stream",
     "text": [
      "     midx    midy   midz  cut_pc  cus_pc  co3_pc  no3_pc  au_ppm  mo_ppm  \\\n",
      "0  3550.1  1490.6  897.5   0.006   -99.0   -99.0   -99.0   -99.0   -99.0   \n",
      "1  3549.8  1490.1  895.5   0.006   -99.0   -99.0   -99.0   -99.0   -99.0   \n",
      "2  3549.5  1489.7  893.6   0.008   -99.0   -99.0   -99.0   -99.0   -99.0   \n",
      "3  3549.2  1489.3  891.7   0.003   -99.0   -99.0   -99.0   -99.0   -99.0   \n",
      "4  3548.8  1488.9  889.8   0.004   -99.0   -99.0   -99.0   -99.0   -99.0   \n",
      "\n",
      "   pb_ppm  ag_ppm  as_ppm  \n",
      "0     -99   -99.0     -99  \n",
      "1     -99   -99.0     -99  \n",
      "2     -99   -99.0     -99  \n",
      "3     -99   -99.0     -99  \n",
      "4     -99   -99.0     -99  \n",
      "     midx    midy   midz  lito_m  alte_m  zmin_m  lito_r  eu_pro  str_zone\n",
      "0  3550.1  1490.6  897.5     500     800     100       2       1         5\n",
      "1  3549.8  1490.1  895.5     500     800     100       2       1         5\n",
      "2  3549.5  1489.7  893.6     500     800     100       2       1         5\n",
      "3  3549.2  1489.3  891.7     500     800     100       2       1         5\n",
      "4  3548.8  1488.9  889.8     500     800     100       2       1         5\n"
     ]
    }
   ],
   "source": [
    "#seperating variable and categorical variables for different distance measure \n",
    "train_data_grades =  train_data[['midx','midy','midz','cut_pc','cus_pc','co3_pc','no3_pc','au_ppm','mo_ppm','pb_ppm','ag_ppm','as_ppm']]\n",
    "train_data_categorical =  train_data[['midx','midy','midz','lito_m','alte_m','zmin_m','lito_r','eu_pro','str_zone']]\n",
    "print(train_data_grades.head())\n",
    "print(train_data_categorical.head())"
   ]
  },
  {
   "cell_type": "code",
   "execution_count": 6,
   "metadata": {},
   "outputs": [],
   "source": [
    "#from scipy.linalg import svd\n",
    "#U, s, VT = svd(train_data_grades.iloc[:20,])"
   ]
  },
  {
   "cell_type": "code",
   "execution_count": 6,
   "metadata": {},
   "outputs": [
    {
     "name": "stdout",
     "output_type": "stream",
     "text": [
      "[ 4.20412810e-01  2.13562053e-01  1.73650161e+03  7.18684615e+02\n",
      "  1.35723253e+00  5.13426529e-01  1.69795415e+03  4.92282293e+02\n",
      "  9.15796308e-01 -1.05310419e+00  6.57344662e+02  1.40623907e+02\n",
      "  6.69409300e+00 -2.94600605e+00 -8.32671602e+00  2.78429269e+01\n",
      " -1.44157990e+00  7.46187613e-01 -6.66779896e+01  4.65426722e+01\n",
      "  2.99589974e-03  1.41432111e+00 -7.77424171e+01  4.10506083e+01\n",
      "  7.75657073e-03  1.41695181e+00 -7.80966993e+01  4.04269486e+01\n",
      " -1.39066251e+00 -7.80615990e-01 -3.14701214e+01  4.61345199e+01\n",
      "  7.36907428e+01  4.58389552e+00  1.47915684e+01  1.01505817e+02\n",
      "  9.09249805e+01  7.08632307e+00 -9.43848978e+01  2.69272978e+01\n",
      "  2.82325906e+01  5.49778958e+00 -9.59922894e+01  1.70630289e+01\n",
      "  0.00000000e+00  0.00000000e+00 -9.90000000e+01  0.00000000e+00\n",
      "  1.76859252e+04  1.60472364e+02  3.57824730e+01]\n"
     ]
    }
   ],
   "source": [
    "'''This is an example of converting a grid raw data to a feature vector\n",
    "kurt = train_data_grades.kurtosis(axis = 0)\n",
    "#print(kurt)\n",
    "skewness = train_data_grades.skew(axis = 0)\n",
    "mean = train_data_grades.mean(axis = 0)\n",
    "std_dev = train_data_grades.std(axis = 0)\n",
    "df = np.matrix(pd.concat([kurt,skewness,mean,std_dev],axis = 1))\n",
    "#fuse matrix to 1 D array\n",
    "df_vec = df.getA1()\n",
    "#append top 3 singular values\n",
    "U, s, VT = svd(train_data_grades.iloc[:20,])\n",
    "#top 3 singular values\n",
    "top3_sv = s[0:3]\n",
    "feature_vec=np.append(df_vec,top3_sv)\n",
    "print(feature_vec)\n",
    "'''"
   ]
  },
  {
   "cell_type": "code",
   "execution_count": 9,
   "metadata": {},
   "outputs": [],
   "source": [
    "'''Import windows slider class'''\n",
    "from Window_slide import Window_slide \n",
    "# Defining Function to extract features: calculates kurtosis, mean, skewness, st dev of different attributtes\n",
    "def extract_features(window_matrix):    \n",
    "    kurt = window_matrix.kurtosis(axis = 0)\n",
    "    skewness = window_matrix.skew(axis = 0)\n",
    "    mean = window_matrix.mean(axis = 0)\n",
    "    std_dev = window_matrix.std(axis = 0)\n",
    "    df = np.matrix(pd.concat([kurt,skewness,mean,std_dev],axis = 1))\n",
    "#fuse matrix to 1 D array\n",
    "    df_vec = df.getA1()\n",
    "#append top 3 singular values\n",
    "    U, s, VT = svd(train_data_grades.iloc[:20,])\n",
    "#top 3 singular values\n",
    "    top3_sv = s[0:3]\n",
    "    feature_vec=np.append(df_vec,top3_sv)\n",
    "    return(feature_vec)\n"
   ]
  },
  {
   "cell_type": "code",
   "execution_count": 8,
   "metadata": {},
   "outputs": [
    {
     "name": "stdout",
     "output_type": "stream",
     "text": [
      "hamming distance between  [1 2 3 7] and  [0 1 1 3] is 4\n"
     ]
    }
   ],
   "source": [
    "def hamming_distance(s1, s2):\n",
    "    assert len(s1) == len(s2)\n",
    "    return sum(ch1 != ch2 for ch1, ch2 in zip(s1, s2))\n",
    "\n",
    "#example of hamming distance:\n",
    "import numpy as np\n",
    "x = np.array([1,2,3,7])\n",
    "y = np.array([0,1,1,3])\n",
    "print(\"hamming distance between \", x, \"and \",y , \"is\" ,  hamming_distance(x,y))"
   ]
  },
  {
   "cell_type": "code",
   "execution_count": 10,
   "metadata": {},
   "outputs": [
    {
     "ename": "TypeError",
     "evalue": "cannot concatenate object of type \"<class 'numpy.ndarray'>\"; only pd.Series, pd.DataFrame, and pd.Panel (deprecated) objs are valid",
     "output_type": "error",
     "traceback": [
      "\u001b[1;31m---------------------------------------------------------------------------\u001b[0m",
      "\u001b[1;31mTypeError\u001b[0m                                 Traceback (most recent call last)",
      "\u001b[1;32m<ipython-input-10-c4a3609bd479>\u001b[0m in \u001b[0;36m<module>\u001b[1;34m()\u001b[0m\n\u001b[0;32m     13\u001b[0m     \u001b[1;32mif\u001b[0m \u001b[0mlen\u001b[0m\u001b[1;33m(\u001b[0m\u001b[0mwindow_matrix\u001b[0m \u001b[1;33m==\u001b[0m\u001b[0mwindow_size\u001b[0m\u001b[1;33m)\u001b[0m\u001b[1;33m:\u001b[0m\u001b[1;33m\u001b[0m\u001b[0m\n\u001b[0;32m     14\u001b[0m         \u001b[1;31m#print(\"TO BE DEVELOPED ...extracting features for block i .... Printing data in block\" ,window_matrix )\u001b[0m\u001b[1;33m\u001b[0m\u001b[1;33m\u001b[0m\u001b[0m\n\u001b[1;32m---> 15\u001b[1;33m         \u001b[0mfeatures_single_block\u001b[0m \u001b[1;33m=\u001b[0m \u001b[0mfeatures_single_block\u001b[0m\u001b[1;33m.\u001b[0m\u001b[0mappend\u001b[0m\u001b[1;33m(\u001b[0m\u001b[0mextract_features\u001b[0m\u001b[1;33m(\u001b[0m\u001b[0mwindow_matrix\u001b[0m\u001b[1;33m)\u001b[0m\u001b[1;33m,\u001b[0m \u001b[0mignore_index\u001b[0m\u001b[1;33m=\u001b[0m\u001b[1;32mTrue\u001b[0m\u001b[1;33m)\u001b[0m\u001b[1;33m\u001b[0m\u001b[0m\n\u001b[0m\u001b[0;32m     16\u001b[0m         \u001b[1;32mif\u001b[0m \u001b[0mwindow\u001b[0m\u001b[1;33m.\u001b[0m\u001b[0mreached_end_of_list\u001b[0m\u001b[1;33m(\u001b[0m\u001b[1;33m)\u001b[0m\u001b[1;33m:\u001b[0m \u001b[1;32mbreak\u001b[0m\u001b[1;33m\u001b[0m\u001b[0m\n",
      "\u001b[1;32mC:\\softwares\\anaconda\\lib\\site-packages\\pandas\\core\\frame.py\u001b[0m in \u001b[0;36mappend\u001b[1;34m(self, other, ignore_index, verify_integrity, sort)\u001b[0m\n\u001b[0;32m   6199\u001b[0m         return concat(to_concat, ignore_index=ignore_index,\n\u001b[0;32m   6200\u001b[0m                       \u001b[0mverify_integrity\u001b[0m\u001b[1;33m=\u001b[0m\u001b[0mverify_integrity\u001b[0m\u001b[1;33m,\u001b[0m\u001b[1;33m\u001b[0m\u001b[0m\n\u001b[1;32m-> 6201\u001b[1;33m                       sort=sort)\n\u001b[0m\u001b[0;32m   6202\u001b[0m \u001b[1;33m\u001b[0m\u001b[0m\n\u001b[0;32m   6203\u001b[0m     def join(self, other, on=None, how='left', lsuffix='', rsuffix='',\n",
      "\u001b[1;32mC:\\softwares\\anaconda\\lib\\site-packages\\pandas\\core\\reshape\\concat.py\u001b[0m in \u001b[0;36mconcat\u001b[1;34m(objs, axis, join, join_axes, ignore_index, keys, levels, names, verify_integrity, sort, copy)\u001b[0m\n\u001b[0;32m    223\u001b[0m                        \u001b[0mkeys\u001b[0m\u001b[1;33m=\u001b[0m\u001b[0mkeys\u001b[0m\u001b[1;33m,\u001b[0m \u001b[0mlevels\u001b[0m\u001b[1;33m=\u001b[0m\u001b[0mlevels\u001b[0m\u001b[1;33m,\u001b[0m \u001b[0mnames\u001b[0m\u001b[1;33m=\u001b[0m\u001b[0mnames\u001b[0m\u001b[1;33m,\u001b[0m\u001b[1;33m\u001b[0m\u001b[0m\n\u001b[0;32m    224\u001b[0m                        \u001b[0mverify_integrity\u001b[0m\u001b[1;33m=\u001b[0m\u001b[0mverify_integrity\u001b[0m\u001b[1;33m,\u001b[0m\u001b[1;33m\u001b[0m\u001b[0m\n\u001b[1;32m--> 225\u001b[1;33m                        copy=copy, sort=sort)\n\u001b[0m\u001b[0;32m    226\u001b[0m     \u001b[1;32mreturn\u001b[0m \u001b[0mop\u001b[0m\u001b[1;33m.\u001b[0m\u001b[0mget_result\u001b[0m\u001b[1;33m(\u001b[0m\u001b[1;33m)\u001b[0m\u001b[1;33m\u001b[0m\u001b[0m\n\u001b[0;32m    227\u001b[0m \u001b[1;33m\u001b[0m\u001b[0m\n",
      "\u001b[1;32mC:\\softwares\\anaconda\\lib\\site-packages\\pandas\\core\\reshape\\concat.py\u001b[0m in \u001b[0;36m__init__\u001b[1;34m(self, objs, axis, join, join_axes, keys, levels, names, ignore_index, verify_integrity, copy, sort)\u001b[0m\n\u001b[0;32m    284\u001b[0m                        \u001b[1;34m' only pd.Series, pd.DataFrame, and pd.Panel'\u001b[0m\u001b[1;33m\u001b[0m\u001b[0m\n\u001b[0;32m    285\u001b[0m                        ' (deprecated) objs are valid'.format(type(obj)))\n\u001b[1;32m--> 286\u001b[1;33m                 \u001b[1;32mraise\u001b[0m \u001b[0mTypeError\u001b[0m\u001b[1;33m(\u001b[0m\u001b[0mmsg\u001b[0m\u001b[1;33m)\u001b[0m\u001b[1;33m\u001b[0m\u001b[0m\n\u001b[0m\u001b[0;32m    287\u001b[0m \u001b[1;33m\u001b[0m\u001b[0m\n\u001b[0;32m    288\u001b[0m             \u001b[1;31m# consolidate\u001b[0m\u001b[1;33m\u001b[0m\u001b[1;33m\u001b[0m\u001b[0m\n",
      "\u001b[1;31mTypeError\u001b[0m: cannot concatenate object of type \"<class 'numpy.ndarray'>\"; only pd.Series, pd.DataFrame, and pd.Panel (deprecated) objs are valid"
     ]
    }
   ],
   "source": [
    "'''Dealing with variable data (grades, etc)\n",
    "1. Window slides along the direction specified in config file\n",
    "2. function call for each block to calculate features and append to data frame\n",
    "3. End when last window readched\n",
    "'''\n",
    "#Data should be sorted in one direction either x,y,z\n",
    "sorted_data = train_data_grades.sort_values(sort_along)\n",
    "#initialise class : window\n",
    "window = Window_slide(sorted_data,window_size,overlap)\n",
    "features_single_block = pd.DataFrame();\n",
    "while True:\n",
    "    window_matrix = window.slide()\n",
    "    if len(window_matrix ==window_size):\n",
    "        #print(\"TO BE DEVELOPED ...extracting features for block i .... Printing data in block\" ,window_matrix )\n",
    "        features_single_block = features_single_block.append(extract_features(window_matrix), ignore_index=True)\n",
    "        if window.reached_end_of_list(): break"
   ]
  },
  {
   "cell_type": "code",
   "execution_count": 11,
   "metadata": {},
   "outputs": [
    {
     "name": "stdout",
     "output_type": "stream",
     "text": [
      "      midx    midy   midz  cut_pc  cus_pc  co3_pc  no3_pc  au_ppm  mo_ppm  \\\n",
      "1435  44.7  1435.7  592.3   0.099 -99.000 -99.000   -99.0   0.005     5.0   \n",
      "1434  45.1  1435.4  594.3   0.101 -99.000 -99.000   -99.0   0.005     5.0   \n",
      "1433  45.6  1435.1  596.2   0.097 -99.000 -99.000   -99.0   0.005     5.0   \n",
      "1432  46.0  1434.9  598.1   0.082 -99.000 -99.000   -99.0   0.005     5.0   \n",
      "1431  46.4  1434.6  600.1   0.041 -99.000 -99.000   -99.0   0.005    11.0   \n",
      "1430  46.8  1434.4  602.0   0.043 -99.000 -99.000   -99.0   0.005    26.0   \n",
      "1429  47.3  1434.1  604.0   0.098 -99.000 -99.000   -99.0   0.005    32.0   \n",
      "1428  47.7  1433.9  605.9   0.124 -99.000 -99.000   -99.0   0.005    21.0   \n",
      "1427  48.1  1433.6  607.8   0.156 -99.000 -99.000   -99.0   0.005     5.0   \n",
      "1426  48.5  1433.3  609.8   0.114 -99.000 -99.000   -99.0   0.005     5.0   \n",
      "1425  49.0  1433.1  611.7   0.200 -99.000 -99.000   -99.0   0.005     5.0   \n",
      "1424  49.4  1432.8  613.6   0.258 -99.000 -99.000   -99.0   0.005    15.0   \n",
      "1423  49.8  1432.6  615.6   0.090 -99.000 -99.000   -99.0   0.005    12.0   \n",
      "1422  50.3  1432.3  617.5   0.037 -99.000 -99.000   -99.0   0.005    20.0   \n",
      "1421  50.7  1432.0  619.4   0.042 -99.000 -99.000   -99.0   0.005     5.0   \n",
      "1420  51.1  1431.8  621.4   0.012 -99.000 -99.000   -99.0   0.005     5.0   \n",
      "1419  51.6  1431.5  623.3   0.036 -99.000 -99.000   -99.0   0.005     5.0   \n",
      "1418  52.0  1431.2  625.2   0.275 -99.000 -99.000   -99.0   0.005     5.0   \n",
      "1417  52.4  1431.0  627.2   0.012 -99.000 -99.000   -99.0   0.005    11.0   \n",
      "1416  52.8  1430.7  629.1   0.036 -99.000 -99.000   -99.0   0.005     5.0   \n",
      "1475  53.0  1610.0  640.7   0.321   0.098   0.192     0.1   0.005     5.0   \n",
      "1415  53.3  1430.4  631.1   0.048 -99.000 -99.000   -99.0   0.005     5.0   \n",
      "1474  53.5  1609.9  642.6   0.182   0.052   0.154     0.1   0.005     5.0   \n",
      "1414  53.7  1430.2  633.0   0.065 -99.000 -99.000   -99.0   0.005     5.0   \n",
      "1473  54.0  1609.9  644.6   0.440   0.108   0.187     0.1   0.010     5.0   \n",
      "1413  54.1  1429.9  634.9   0.267 -99.000 -99.000   -99.0   0.005    53.0   \n",
      "1472  54.4  1609.9  646.5   0.523   0.151   0.215     0.1   0.005     5.0   \n",
      "1412  54.5  1429.6  636.9   0.574 -99.000 -99.000   -99.0   0.080    77.0   \n",
      "1471  54.9  1609.9  648.4   0.275   0.073   0.302     0.1   0.005     5.0   \n",
      "1411  55.0  1429.4  638.8   0.192 -99.000 -99.000   -99.0   0.005    23.0   \n",
      "...    ...     ...    ...     ...     ...     ...     ...     ...     ...   \n",
      "1396  61.4  1425.5  667.8   0.421 -99.000 -99.000   -99.0   0.010    64.0   \n",
      "1503  61.4  1562.6  671.1   0.010   0.001   0.517     0.1   0.040     5.0   \n",
      "1502  61.8  1562.5  673.0   0.006   0.001   0.374     0.1   0.030     5.0   \n",
      "1395  61.8  1425.2  669.8   0.226 -99.000 -99.000   -99.0   0.010    29.0   \n",
      "1456  61.8  1609.6  677.6   0.341   0.111   0.158     0.1 -99.000     5.0   \n",
      "1455  62.2  1609.6  679.6   0.478   0.271   0.144     0.1 -99.000     5.0   \n",
      "1501  62.2  1562.5  675.0   0.002   0.001   0.474     0.1   0.005     5.0   \n",
      "1394  62.3  1424.9  671.7   0.982 -99.000 -99.000   -99.0   0.070    41.0   \n",
      "1500  62.6  1562.5  677.0   0.003   0.001   0.225     0.1   0.005     5.0   \n",
      "1393  62.7  1424.7  673.6   0.500 -99.000 -99.000   -99.0   0.005    23.0   \n",
      "1454  62.7  1609.6  681.5   0.366   0.134   0.156     0.1 -99.000    11.0   \n",
      "1453  63.1  1609.6  683.5   0.449   0.138   0.156     0.1 -99.000    14.0   \n",
      "1392  63.1  1424.4  675.6   0.182 -99.000 -99.000   -99.0   0.010     5.0   \n",
      "1499  63.1  1562.4  678.9   0.007   0.003   0.438     0.1   0.005     5.0   \n",
      "1498  63.5  1562.4  680.9   0.376   0.203   0.342     0.1   0.030    13.0   \n",
      "1391  63.6  1424.2  677.5   0.184 -99.000 -99.000   -99.0   0.030    22.0   \n",
      "1452  63.6  1609.6  685.4   0.527   0.163   0.167     0.1 -99.000    21.0   \n",
      "1497  63.9  1562.3  682.8   0.711   0.368   0.274     0.1   0.020    13.0   \n",
      "1390  64.0  1423.9  679.5   0.275 -99.000 -99.000   -99.0   0.020    34.0   \n",
      "1451  64.1  1609.6  687.4   0.762   0.222   0.169     0.1 -99.000    31.0   \n",
      "1496  64.3  1562.3  684.8   0.420   0.171   0.301     0.1   0.110    14.0   \n",
      "1389  64.4  1423.7  681.4   0.399 -99.000 -99.000   -99.0   0.040    11.0   \n",
      "1450  64.5  1609.6  689.3   0.641   0.156   0.163     0.1 -99.000    27.0   \n",
      "1495  64.7  1562.2  686.7   0.010   0.004   0.277     0.1   0.005     5.0   \n",
      "1388  64.8  1423.4  683.3   0.391   0.011   0.629     0.1   0.030    58.0   \n",
      "1449  65.0  1609.6  691.3   0.724   0.233   0.169     0.1 -99.000    25.0   \n",
      "1494  65.1  1562.2  688.7   0.099   0.017   0.407     0.1   0.020    17.0   \n",
      "1387  65.3  1423.1  685.3   0.225   0.008   0.767     0.1   0.020    36.0   \n",
      "1448  65.4  1609.6  693.2   1.093   0.626   0.179     0.1 -99.000    21.0   \n",
      "1493  65.5  1562.1  690.7   0.442   0.127   0.422     0.1   0.020    24.0   \n",
      "\n",
      "      pb_ppm  ag_ppm  as_ppm  \n",
      "1435     -99   -99.0     -99  \n",
      "1434     -99   -99.0     -99  \n",
      "1433     -99   -99.0     -99  \n",
      "1432     -99   -99.0     -99  \n",
      "1431     -99   -99.0     -99  \n",
      "1430     -99   -99.0     -99  \n",
      "1429     -99   -99.0     -99  \n",
      "1428     -99   -99.0     -99  \n",
      "1427     -99   -99.0     -99  \n",
      "1426     -99   -99.0     -99  \n",
      "1425     -99   -99.0     -99  \n",
      "1424     -99   -99.0     -99  \n",
      "1423     -99   -99.0     -99  \n",
      "1422     -99   -99.0     -99  \n",
      "1421     -99   -99.0     -99  \n",
      "1420     -99   -99.0     -99  \n",
      "1419     -99   -99.0     -99  \n",
      "1418     -99   -99.0     -99  \n",
      "1417     -99   -99.0     -99  \n",
      "1416     -99   -99.0     -99  \n",
      "1475     -99   -99.0     -99  \n",
      "1415     -99   -99.0     -99  \n",
      "1474     -99   -99.0     -99  \n",
      "1414     -99   -99.0     -99  \n",
      "1473     -99   -99.0     -99  \n",
      "1413     -99   -99.0     -99  \n",
      "1472     -99   -99.0     -99  \n",
      "1412     -99   -99.0     -99  \n",
      "1471     -99   -99.0     -99  \n",
      "1411     -99   -99.0     -99  \n",
      "...      ...     ...     ...  \n",
      "1396     -99   -99.0     -99  \n",
      "1503     -99   -99.0     -99  \n",
      "1502     -99   -99.0     -99  \n",
      "1395     -99   -99.0     -99  \n",
      "1456     -99   -99.0     -99  \n",
      "1455     -99   -99.0     -99  \n",
      "1501     -99   -99.0     -99  \n",
      "1394     -99   -99.0     -99  \n",
      "1500     -99   -99.0     -99  \n",
      "1393     -99   -99.0     -99  \n",
      "1454     -99   -99.0     -99  \n",
      "1453     -99   -99.0     -99  \n",
      "1392     -99   -99.0     -99  \n",
      "1499     -99   -99.0     -99  \n",
      "1498     -99   -99.0     -99  \n",
      "1391     -99   -99.0     -99  \n",
      "1452     -99   -99.0     -99  \n",
      "1497     -99   -99.0     -99  \n",
      "1390     -99   -99.0     -99  \n",
      "1451     -99   -99.0     -99  \n",
      "1496     -99   -99.0     -99  \n",
      "1389     -99   -99.0     -99  \n",
      "1450     -99   -99.0     -99  \n",
      "1495     -99   -99.0     -99  \n",
      "1388     -99   -99.0     -99  \n",
      "1449     -99   -99.0     -99  \n",
      "1494     -99   -99.0     -99  \n",
      "1387     -99   -99.0     -99  \n",
      "1448     -99   -99.0     -99  \n",
      "1493     -99   -99.0     -99  \n",
      "\n",
      "[100 rows x 12 columns]\n"
     ]
    }
   ],
   "source": [
    "print(window_matrix)"
   ]
  },
  {
   "cell_type": "code",
   "execution_count": null,
   "metadata": {},
   "outputs": [],
   "source": [
    "#Discard rows again with missing freatures\n",
    "feature_set = pd.DataFrame(features_single_block.dropna(axis=0, how='any', thresh=None, subset=None, inplace=False))\n",
    "print(feature_set.head())"
   ]
  }
 ],
 "metadata": {
  "kernelspec": {
   "display_name": "Python 3",
   "language": "python",
   "name": "python3"
  },
  "language_info": {
   "codemirror_mode": {
    "name": "ipython",
    "version": 3
   },
   "file_extension": ".py",
   "mimetype": "text/x-python",
   "name": "python",
   "nbconvert_exporter": "python",
   "pygments_lexer": "ipython3",
   "version": "3.6.5"
  }
 },
 "nbformat": 4,
 "nbformat_minor": 2
}
